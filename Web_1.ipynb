{
 "cells": [
  {
   "cell_type": "code",
   "execution_count": 1,
   "metadata": {},
   "outputs": [],
   "source": [
    "import bs4 as bs\n",
    "import requests"
   ]
  },
  {
   "cell_type": "code",
   "execution_count": 2,
   "metadata": {},
   "outputs": [],
   "source": [
    "res = requests.get('https://en.wikipedia.org/wiki/Machine_learning')"
   ]
  },
  {
   "cell_type": "code",
   "execution_count": 3,
   "metadata": {},
   "outputs": [],
   "source": [
    "soup = bs.BeautifulSoup(res.text, 'lxml')"
   ]
  },
  {
   "cell_type": "code",
   "execution_count": 4,
   "metadata": {},
   "outputs": [
    {
     "data": {
      "text/plain": [
       "[<span class=\"mw-headline\" id=\"Overview\">Overview</span>,\n",
       " <span class=\"mw-headline\" id=\"Machine_learning_approaches\">Machine learning approaches</span>,\n",
       " <span class=\"mw-headline\" id=\"History_and_relationships_to_other_fields\">History and relationships to other fields</span>,\n",
       " <span class=\"mw-headline\" id=\"Artificial_intelligence\">Artificial intelligence</span>,\n",
       " <span class=\"mw-headline\" id=\"Data_mining\">Data mining</span>,\n",
       " <span class=\"mw-headline\" id=\"Optimization\">Optimization</span>,\n",
       " <span class=\"mw-headline\" id=\"Statistics\">Statistics</span>,\n",
       " <span class=\"mw-headline\" id=\"Theory\"><span class=\"anchor\" id=\"Generalization\"></span> Theory</span>,\n",
       " <span class=\"mw-headline\" id=\"Approaches\">Approaches</span>,\n",
       " <span class=\"mw-headline\" id=\"Types_of_learning_algorithms\">Types of learning algorithms</span>,\n",
       " <span class=\"mw-headline\" id=\"Supervised_learning\">Supervised learning</span>,\n",
       " <span class=\"mw-headline\" id=\"Unsupervised_learning\">Unsupervised learning</span>,\n",
       " <span class=\"mw-headline\" id=\"Semi-supervised_learning\">Semi-supervised learning</span>,\n",
       " <span class=\"mw-headline\" id=\"Reinforcement_learning\">Reinforcement learning</span>,\n",
       " <span class=\"mw-headline\" id=\"Self_learning\">Self learning</span>,\n",
       " <span class=\"mw-headline\" id=\"Feature_learning\">Feature learning</span>,\n",
       " <span class=\"mw-headline\" id=\"Sparse_dictionary_learning\">Sparse dictionary learning</span>,\n",
       " <span class=\"mw-headline\" id=\"Anomaly_detection\">Anomaly detection</span>,\n",
       " <span class=\"mw-headline\" id=\"Robot_learning\">Robot learning</span>,\n",
       " <span class=\"mw-headline\" id=\"Association_rules\">Association rules</span>,\n",
       " <span class=\"mw-headline\" id=\"Models\">Models</span>,\n",
       " <span class=\"mw-headline\" id=\"Artificial_neural_networks\">Artificial neural networks</span>,\n",
       " <span class=\"mw-headline\" id=\"Decision_trees\">Decision trees</span>,\n",
       " <span class=\"mw-headline\" id=\"Support_vector_machines\">Support vector machines</span>,\n",
       " <span class=\"mw-headline\" id=\"Regression_analysis\">Regression analysis</span>,\n",
       " <span class=\"mw-headline\" id=\"Bayesian_networks\">Bayesian networks</span>,\n",
       " <span class=\"mw-headline\" id=\"Genetic_algorithms\">Genetic algorithms</span>,\n",
       " <span class=\"mw-headline\" id=\"Training_models\">Training models</span>,\n",
       " <span class=\"mw-headline\" id=\"Federated_learning\">Federated learning</span>,\n",
       " <span class=\"mw-headline\" id=\"Applications\">Applications</span>,\n",
       " <span class=\"mw-headline\" id=\"Limitations\">Limitations</span>,\n",
       " <span class=\"mw-headline\" id=\"Bias\">Bias</span>,\n",
       " <span class=\"mw-headline\" id=\"Model_assessments\">Model assessments</span>,\n",
       " <span class=\"mw-headline\" id=\"Ethics\">Ethics</span>,\n",
       " <span class=\"mw-headline\" id=\"Hardware\">Hardware</span>,\n",
       " <span class=\"mw-headline\" id=\"Software\">Software</span>,\n",
       " <span class=\"mw-headline\" id=\"Free_and_open-source_software\">Free and open-source software<span class=\"anchor\" id=\"Open-source_software\"></span></span>,\n",
       " <span class=\"mw-headline\" id=\"Proprietary_software_with_free_and_open-source_editions\">Proprietary software with free and open-source editions</span>,\n",
       " <span class=\"mw-headline\" id=\"Proprietary_software\">Proprietary software</span>,\n",
       " <span class=\"mw-headline\" id=\"Journals\">Journals</span>,\n",
       " <span class=\"mw-headline\" id=\"Conferences\">Conferences</span>,\n",
       " <span class=\"mw-headline\" id=\"See_also\">See also</span>,\n",
       " <span class=\"mw-headline\" id=\"References\">References</span>,\n",
       " <span class=\"mw-headline\" id=\"Further_reading\">Further reading</span>,\n",
       " <span class=\"mw-headline\" id=\"External_links\">External links</span>]"
      ]
     },
     "execution_count": 4,
     "metadata": {},
     "output_type": "execute_result"
    }
   ],
   "source": [
    "soup.select('.mw-headline')"
   ]
  },
  {
   "cell_type": "code",
   "execution_count": 11,
   "metadata": {},
   "outputs": [
    {
     "name": "stdout",
     "output_type": "stream",
     "text": [
      "Overview,\n",
      "Machine learning approaches,\n",
      "History and relationships to other fields,\n",
      "Artificial intelligence,\n",
      "Data mining,\n",
      "Optimization,\n",
      "Statistics,\n",
      " Theory,\n",
      "Approaches,\n",
      "Types of learning algorithms,\n",
      "Supervised learning,\n",
      "Unsupervised learning,\n",
      "Semi-supervised learning,\n",
      "Reinforcement learning,\n",
      "Self learning,\n",
      "Feature learning,\n",
      "Sparse dictionary learning,\n",
      "Anomaly detection,\n",
      "Robot learning,\n",
      "Association rules,\n",
      "Models,\n",
      "Artificial neural networks,\n",
      "Decision trees,\n",
      "Support vector machines,\n",
      "Regression analysis,\n",
      "Bayesian networks,\n",
      "Genetic algorithms,\n",
      "Training models,\n",
      "Federated learning,\n",
      "Applications,\n",
      "Limitations,\n",
      "Bias,\n",
      "Model assessments,\n",
      "Ethics,\n",
      "Hardware,\n",
      "Software,\n",
      "Free and open-source software,\n",
      "Proprietary software with free and open-source editions,\n",
      "Proprietary software,\n",
      "Journals,\n",
      "Conferences,\n",
      "See also,\n",
      "References,\n",
      "Further reading,\n",
      "External links,\n",
      "\n"
     ]
    }
   ],
   "source": [
    "text = \"\"\n",
    "for title in soup.select('.mw-headline'):\n",
    "    text += title.text + \",\\n\"\n",
    "print(text)"
   ]
  },
  {
   "cell_type": "code",
   "execution_count": 16,
   "metadata": {},
   "outputs": [
    {
     "name": "stdout",
     "output_type": "stream",
     "text": [
      "1 Overview\n",
      "\n",
      "1.1 Machine learning approaches\n",
      "\n",
      "\n",
      "2 History and relationships to other fields\n",
      "\n",
      "2.1 Artificial intelligence\n",
      "2.2 Data mining\n",
      "2.3 Optimization\n",
      "2.4 Statistics\n",
      "\n",
      "\n",
      "3 Theory\n",
      "4 Approaches\n",
      "\n",
      "4.1 Types of learning algorithms\n",
      "\n",
      "4.1.1 Supervised learning\n",
      "4.1.2 Unsupervised learning\n",
      "4.1.3 Semi-supervised learning\n",
      "4.1.4 Reinforcement learning\n",
      "4.1.5 Self learning\n",
      "4.1.6 Feature learning\n",
      "4.1.7 Sparse dictionary learning\n",
      "4.1.8 Anomaly detection\n",
      "4.1.9 Robot learning\n",
      "4.1.10 Association rules\n",
      "\n",
      "\n",
      "4.2 Models\n",
      "\n",
      "4.2.1 Artificial neural networks\n",
      "4.2.2 Decision trees\n",
      "4.2.3 Support vector machines\n",
      "4.2.4 Regression analysis\n",
      "4.2.5 Bayesian networks\n",
      "4.2.6 Genetic algorithms\n",
      "\n",
      "\n",
      "4.3 Training models\n",
      "\n",
      "4.3.1 Federated learning\n",
      "\n",
      "\n",
      "\n",
      "\n",
      "5 Applications\n",
      "6 Limitations\n",
      "\n",
      "6.1 Bias\n",
      "\n",
      "\n",
      "7 Model assessments\n",
      "8 Ethics\n",
      "9 Hardware\n",
      "10 Software\n",
      "\n",
      "10.1 Free and open-source software\n",
      "10.2 Proprietary software with free and open-source editions\n",
      "10.3 Proprietary software\n",
      "\n",
      "\n",
      "11 Journals\n",
      "12 Conferences\n",
      "13 See also\n",
      "14 References\n",
      "15 Further reading\n",
      "16 External links\n",
      "\n"
     ]
    }
   ],
   "source": [
    "Level = \"\"\n",
    "for i in soup.select('.toclevel-1'):\n",
    "    Level += i.text + \"\\n\"\n",
    "print(Level)"
   ]
  },
  {
   "cell_type": "code",
   "execution_count": 18,
   "metadata": {},
   "outputs": [],
   "source": [
    "import re\n",
    "Level = re.sub(r'\\s+', ' ', Level)"
   ]
  },
  {
   "cell_type": "code",
   "execution_count": 23,
   "metadata": {},
   "outputs": [],
   "source": [
    "Level = Level.lower()"
   ]
  },
  {
   "cell_type": "code",
   "execution_count": 24,
   "metadata": {},
   "outputs": [
    {
     "data": {
      "text/plain": [
       "'1 overview 1.1 machine learning approaches 2 history and relationships to other fields 2.1 artificial intelligence 2.2 data mining 2.3 optimization 2.4 statistics 3 theory 4 approaches 4.1 types of learning algorithms 4.1.1 supervised learning 4.1.2 unsupervised learning 4.1.3 semi-supervised learning 4.1.4 reinforcement learning 4.1.5 self learning 4.1.6 feature learning 4.1.7 sparse dictionary learning 4.1.8 anomaly detection 4.1.9 robot learning 4.1.10 association rules 4.2 models 4.2.1 artificial neural networks 4.2.2 decision trees 4.2.3 support vector machines 4.2.4 regression analysis 4.2.5 bayesian networks 4.2.6 genetic algorithms 4.3 training models 4.3.1 federated learning 5 applications 6 limitations 6.1 bias 7 model assessments 8 ethics 9 hardware 10 software 10.1 free and open-source software 10.2 proprietary software with free and open-source editions 10.3 proprietary software 11 journals 12 conferences 13 see also 14 references 15 further reading 16 external links \\n'"
      ]
     },
     "execution_count": 24,
     "metadata": {},
     "output_type": "execute_result"
    }
   ],
   "source": [
    "Level"
   ]
  },
  {
   "cell_type": "code",
   "execution_count": 25,
   "metadata": {},
   "outputs": [],
   "source": [
    "Level = re.sub(r'\\[[0-9]*\\]', ' ', Level)"
   ]
  },
  {
   "cell_type": "code",
   "execution_count": 26,
   "metadata": {},
   "outputs": [
    {
     "name": "stdout",
     "output_type": "stream",
     "text": [
      "1 overview 1.1 machine learning approaches 2 history and relationships to other fields 2.1 artificial intelligence 2.2 data mining 2.3 optimization 2.4 statistics 3 theory 4 approaches 4.1 types of learning algorithms 4.1.1 supervised learning 4.1.2 unsupervised learning 4.1.3 semi-supervised learning 4.1.4 reinforcement learning 4.1.5 self learning 4.1.6 feature learning 4.1.7 sparse dictionary learning 4.1.8 anomaly detection 4.1.9 robot learning 4.1.10 association rules 4.2 models 4.2.1 artificial neural networks 4.2.2 decision trees 4.2.3 support vector machines 4.2.4 regression analysis 4.2.5 bayesian networks 4.2.6 genetic algorithms 4.3 training models 4.3.1 federated learning 5 applications 6 limitations 6.1 bias 7 model assessments 8 ethics 9 hardware 10 software 10.1 free and open-source software 10.2 proprietary software with free and open-source editions 10.3 proprietary software 11 journals 12 conferences 13 see also 14 references 15 further reading 16 external links \n",
      "\n"
     ]
    }
   ],
   "source": [
    "print(Level)"
   ]
  }
 ],
 "metadata": {
  "kernelspec": {
   "display_name": "Python 3",
   "language": "python",
   "name": "python3"
  },
  "language_info": {
   "codemirror_mode": {
    "name": "ipython",
    "version": 3
   },
   "file_extension": ".py",
   "mimetype": "text/x-python",
   "name": "python",
   "nbconvert_exporter": "python",
   "pygments_lexer": "ipython3",
   "version": "3.7.7"
  }
 },
 "nbformat": 4,
 "nbformat_minor": 4
}
